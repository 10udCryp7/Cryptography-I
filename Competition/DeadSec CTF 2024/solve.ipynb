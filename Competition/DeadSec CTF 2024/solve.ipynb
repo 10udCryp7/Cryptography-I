{
 "cells": [
  {
   "cell_type": "code",
   "execution_count": 187,
   "metadata": {},
   "outputs": [],
   "source": [
    "from binascii import hexlify\n",
    "flag = hexlify(b'DEAD{test}').decode()\n",
    "\n",
    "#convert from base 10 to base 16\n",
    "\n"
   ]
  },
  {
   "cell_type": "code",
   "execution_count": 188,
   "metadata": {},
   "outputs": [],
   "source": [
    "def FLAG_KILLER(value):\n",
    "    index = 0\n",
    "    temp = []\n",
    "    output = 0\n",
    "    while value > 0:\n",
    "        temp.append(2 - (value % 4) if value % 2 != 0 else 0)\n",
    "        value = (value - temp[index])/2\n",
    "        index += 1\n",
    "    temp = temp[::-1]\n",
    "    for index in range(len(temp)):\n",
    "        output += temp[index] * 3 ** (len(temp) - index - 1)\n",
    "    return output"
   ]
  },
  {
   "cell_type": "code",
   "execution_count": 189,
   "metadata": {},
   "outputs": [],
   "source": [
    "output = '0e98b103240e99c71e320dd330dd430de2629ce326a4a2b6b90cd201030926a090cfc5269f904f740cd1001c290cd10002900cd100ee59269a8269a026a4a2d05a269a82aa850d03a2b6b900883'"
   ]
  },
  {
   "cell_type": "code",
   "execution_count": 190,
   "metadata": {},
   "outputs": [],
   "source": [
    "def REVERSE_FLAG_KILLER(output):\n",
    "    out = output\n",
    "    temp = []\n",
    "    index = 0\n",
    "    num_3 = 0\n",
    "    while out >= 3**(num_3):\n",
    "        num_3 += 1\n",
    "    for i in range(num_3+1):\n",
    "        out += 3**(i)\n",
    "    while out > 0:\n",
    "        temp.append(out % 3 - 1)\n",
    "        out = out // 3\n",
    "    temp = temp[::-1]\n",
    "    value = 0\n",
    "    for index in range(len(temp)):\n",
    "        value = value *2 + temp[index]\n",
    "    return value"
   ]
  },
  {
   "cell_type": "code",
   "execution_count": 226,
   "metadata": {},
   "outputs": [
    {
     "name": "stdout",
     "output_type": "stream",
     "text": [
      "444\n",
      "444541\n",
      "444541447\n",
      "444541447b32\n",
      "444541447b32363\n",
      "444541447b32363366\n",
      "444541447b32363366383\n",
      "444541447b32363366383731\n",
      "444541447b32363366383731653\n",
      "444541447b32363366383731653838\n",
      "444541447b32363366383731653838306\n",
      "444541447b32363366383731653838306539\n",
      "444541447b32363366383731653838306539646\n",
      "444541447b32363366383731653838306539646337\n",
      "444541447b32363366383731653838306539646337643\n",
      "444541447b32363366383731653838306539646337643234\n",
      "444541447b32363366383731653838306539646337643234303\n",
      "444541447b32363366383731653838306539646337643234303130\n",
      "444541447b32363366383731653838306539646337643234303130303\n",
      "95\n",
      "155\n",
      "signal\n",
      "444541447b32363366383731653838306539646337643234303130303033\n",
      "444541447b32363366383731653838306539646337643234303130303033303\n",
      "444541447b32363366383731653838306539646337643234303130303033303466\n",
      "444541447b32363366383731653838306539646337643234303130303033303466633\n",
      "444541447b32363366383731653838306539646337643234303130303033303466633630\n",
      "444541447b32363366383731653838306539646337643234303130303033303466633630653\n",
      "444541447b32363366383731653838306539646337643234303130303033303466633630653938\n",
      "444541447b32363366383731653838306539646337643234303130303033303466633630653938633\n",
      "444541447b32363366383731653838306539646337643234303130303033303466633630653938633763\n",
      "444541447b32363366383731653838306539646337643234303130303033303466633630653938633763353\n",
      "444541447b32363366383731653838306539646337643234303130303033303466633630653938633763353838\n",
      "444541447b323633663837316538383065396463376432343031303030333034666336306539386337633538387d\n",
      "00883\n",
      "True\n"
     ]
    }
   ],
   "source": [
    "flag = ''\n",
    "index = 0\n",
    "step = 0\n",
    "check = ''\n",
    "for i in range(len(output)):\n",
    "    output_5 = output[step:step+5]\n",
    "    try:\n",
    "        int_output_5 = int(output_5, 16)\n",
    "    except:\n",
    "        print(output[step-5:step])\n",
    "        break\n",
    "    value = REVERSE_FLAG_KILLER(int_output_5)\n",
    "    check += '%05x' % int(FLAG_KILLER(value))\n",
    "    if len(hex(value)[2:]) < 3 and step + 5 < len(output):\n",
    "        print(step)\n",
    "        print(len(output))\n",
    "        flag += '0'*(3 - len(hex(value)[2:]))\n",
    "        print('signal')\n",
    "    flag += hex(value)[2:]\n",
    "    print(flag)\n",
    "    step += 5\n",
    "print(check == output)"
   ]
  },
  {
   "cell_type": "code",
   "execution_count": 227,
   "metadata": {},
   "outputs": [],
   "source": [
    "flag_real = bytes.fromhex(flag[:]).decode('utf-8')"
   ]
  },
  {
   "cell_type": "code",
   "execution_count": 228,
   "metadata": {},
   "outputs": [
    {
     "name": "stdout",
     "output_type": "stream",
     "text": [
      "DEAD{263f871e880e9dc7d2401000304fc60e98c7c588}\n",
      "444541447b323633663837316538383065396463376432343031303030333034666336306539386337633538387d\n"
     ]
    }
   ],
   "source": [
    "print(flag_real)\n",
    "print(flag)"
   ]
  }
 ],
 "metadata": {
  "kernelspec": {
   "display_name": "Python 3",
   "language": "python",
   "name": "python3"
  },
  "language_info": {
   "codemirror_mode": {
    "name": "ipython",
    "version": 3
   },
   "file_extension": ".py",
   "mimetype": "text/x-python",
   "name": "python",
   "nbconvert_exporter": "python",
   "pygments_lexer": "ipython3",
   "version": "3.11.1"
  }
 },
 "nbformat": 4,
 "nbformat_minor": 2
}
