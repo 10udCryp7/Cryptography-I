{
 "cells": [
  {
   "cell_type": "markdown",
   "metadata": {},
   "source": [
    "## **Sun Zi's Perfect Math Class**"
   ]
  },
  {
   "cell_type": "markdown",
   "metadata": {},
   "source": [
    "### 🔎 Phân tích đề bài\n",
    "\n",
    "- Cho `e = 3, c1, c2, c3, n1, n2, n3` là các số lớn, tìm m thỏa mãn `c = m^e (mod n)`\n",
    "### 🎯 Định hướng giải bài\n",
    "- Áp dụng CRT để giải ta có:\n",
    "- `m^e = c1 (mod n1)`, `m^e = c2 (mod n2)`, `m^e = c2 (mod n2)`\n",
    "- từ định lý thặng dư trung hoa ta tìm được `m^e`, do e nhỏ nên có thể tính căn để lấy giá trị `m`\n",
    "- ta nên để ý thực hiện phép nhân thay vì phép chia vì số lớn khó thực hiện phép chia\n",
    "- muốn khai căn số lớn chính xác ta sử dụng `gmpy2.iroot()`"
   ]
  },
  {
   "cell_type": "code",
   "execution_count": 1,
   "metadata": {},
   "outputs": [
    {
     "name": "stdout",
     "output_type": "stream",
     "text": [
      "b'DUCTF{btw_y0u_c4n_als0_us3_CRT_f0r_p4rt14l_fr4ct10ns}'\n"
     ]
    }
   ],
   "source": [
    "import functools\n",
    "import operator\n",
    "from Crypto.Util.number import long_to_bytes, inverse\n",
    "import gmpy2\n",
    "e = 3\n",
    "c1 = 105001824161664003599422656864176455171381720653815905925856548632486703162518989165039084097502312226864233302621924809266126953771761669365659646250634187967109683742983039295269237675751525196938138071285014551966913785883051544245059293702943821571213612968127810604163575545004589035344590577094378024637\n",
    "c2 = 31631442837619174301627703920800905351561747632091670091370206898569727230073839052473051336225502632628636256671728802750596833679629890303700500900722642779064628589492559614751281751964622696427520120657753178654351971238020964729065716984136077048928869596095134253387969208375978930557763221971977878737\n",
    "c3 = 64864977037231624991423831965394304787965838591735479931470076118956460041888044329021534008265748308238833071879576193558419510910272917201870797698253331425756509041685848066195410586013190421426307862029999566951239891512032198024716311786896333047799598891440799810584167402219122283692655717691362258659\n",
    "n1 = 147896270072551360195753454363282299426062485174745759351211846489928910241753224819735285744845837638083944350358908785909584262132415921461693027899236186075383010852224067091477810924118719861660629389172820727449033189259975221664580227157731435894163917841980802021068840549853299166437257181072372761693\n",
    "n2 = 95979365485314068430194308015982074476106529222534317931594712046922760584774363858267995698339417335986543347292707495833182921439398983540425004105990583813113065124836795470760324876649225576921655233346630422669551713602423987793822459296761403456611062240111812805323779302474406733327110287422659815403\n",
    "n3 = 95649308318281674792416471616635514342255502211688462925255401503618542159533496090638947784818456347896833168508179425853277740290242297445486511810651365722908240687732315319340403048931123530435501371881740859335793804194315675972192649001074378934213623075830325229416830786633930007188095897620439987817\n",
    "\n",
    "# Bước 1: tìm N = n1 * n2 * n3\n",
    "N = n1 * n2 * n3\n",
    "# Cách khác là dùng vòng for hoặc reduce(operator, list) của thư viện functools cùng operator\n",
    "N_reduce = functools.reduce(operator.mul, [n1, n2, n3])\n",
    "\n",
    "cs = [c1, c2, c3]\n",
    "ns = [n1, n2, n3]\n",
    "\n",
    "# Bước 2: ta tìm x thỏa mãn: x bằng sum(ci * N / (ni) * inverse(N, ni)) % N với inverse là nghịch đảo module\n",
    "# tuy nhiên do là số lớn nên phép chia không hoạt động, ta đổi N/(ni) = tích các nj với j khác i\n",
    "crt = c1 * n2 * n3 * inverse(n2 * n3, n1)\n",
    "crt += c2 * n1 * n3 * inverse(n1 * n3, n2)\n",
    "crt += c3 * n1 * n2 * inverse(n1 * n2, n3)\n",
    "x = crt%N\n",
    "\n",
    "# kiểm tra điều kiện\n",
    "assert x % n1 == c1\n",
    "assert x % n2 == c2\n",
    "assert x % n3 == c3\n",
    "# Bước 3: x = m^e % N, do đó m^e = x + k*N ta cần tìm m^e thỏa mãn khai căn được và có flag đúng, ở đây ta sử dụng gmpy2 với iroot để khai căn số lớn\n",
    "for k in range(0, 5):\n",
    "    # hàm trả về kết quả khai căn và biến đánh giá khai căn có đúng hay không\n",
    "    m,check = gmpy2.iroot(x + k*N,3)\n",
    "    # assert check\n",
    "    if (check == True):\n",
    "        print(long_to_bytes(m))\n"
   ]
  },
  {
   "cell_type": "markdown",
   "metadata": {},
   "source": [
    "# **decrypt then eval**"
   ]
  },
  {
   "cell_type": "markdown",
   "metadata": {},
   "source": [
    "### 🔎 Phân tích đề bài\n",
    "\n",
    "- Bài sử dụng mã hóa AES với KEY và IV được sinh ngẫu nhiên, FLAG mặc định.\n",
    "- Input đầu vào là giá trị hex, sau đó chương trình chuyển giá trị hex này thành byte.\n",
    "- Đối tượng `aes` được tạo để thực hiện mã hóa **hoặc** giải mã (không thể dùng chung một đối tượng `aes` cho cả hai).\n",
    "- Lỗi xuất hiện ở câu lệnh `eval()`, khi câu lệnh này thực thi lệnh được truyền vào ở dạng chuỗi.\n",
    "\n",
    "### 🎯 Định hướng giải bài\n",
    "\n",
    "- **Khai thác lỗi `eval()`**: Mục tiêu là truyền vào `eval()` lệnh `\"print(FLAG)\"`. Để đạt được điều này, ta cần:\n",
    "    - `aes.decrypt(ct) = b\"print(FLAG)\"`\n",
    "    - `ct = aes.encrypt(b\"print(FLAG)\")`\n",
    "    - Từ đó suy ra `input = aes.encrypt(b\"print(FLAG)\").hex()` (lưu ý `aes` phải được tạo riêng là `AES.new(KEY, AES.MODE_CFB, IV, segment_size=128)`)\n",
    "- **Vấn đề gặp phải**: Chưa tìm được cách thực hiện lệnh `AES.new(KEY, AES.MODE_CFB, IV, segment_size=128).encrypt(b\"print(FLAG\"))` khi nhập input.\n",
    "- **Bế tắc**:\n",
    "    - Không thể chuyển cả đoạn code trên thành hex vì ý nghĩa khác nhau. Ta muốn chuyển đổi output của đoạn code đó sang hex, chứ không phải các ký tự trong code.\n",
    "    - Một số ý tưởng như in ra KEY và IV không khả thi vì KEY và IV không thay đổi trong một phiên làm việc, nhưng mọi lệnh đều phải được mã hóa bằng KEY và IV.\n"
   ]
  },
  {
   "cell_type": "code",
   "execution_count": 17,
   "metadata": {},
   "outputs": [
    {
     "name": "stdout",
     "output_type": "stream",
     "text": [
      "hello\n",
      "None\n"
     ]
    }
   ],
   "source": [
    "'''code test of decrypt then eval'''\n",
    "from Crypto.Cipher import AES\n",
    "import os\n",
    "\n",
    "# chọn giữ nguyên KEY và IV để test\n",
    "KEY = b'\\xe8\\x7f\\xaf\\x96\\x7f\\x14V\\x8d)\\xb6Y7\\xcd\\xec\\xf1\\xb9'\n",
    "IV = b'\\x8a(v\\xc2\\xb1h\\x90\\x82\\xcb\\xa71\\x8c\\x9a\\xbe\\xe7\\xf5'\n",
    "# chọn flag là hello để test\n",
    "FLAG = 'hello'\n",
    "\n",
    "def main():\n",
    "    # thử ngiệm input là aes.encrypt(b'print(FLAG)').hex(), với biểu diễn dữ liệu là hex, thông tin là kết quả của hàm aes.encrypt(b'print(FLAG)')\n",
    "    inputs = AES.new(KEY, AES.MODE_CFB, IV, segment_size=128).encrypt(b'print(FLAG)').hex()\n",
    "    # cho ct chuyển hex thành bytes, lúc này ct = aes.encrypt(b'print(FLAG)')\n",
    "    ct = bytes.fromhex(inputs)\n",
    "    # thực hiện giải mã ct, sau đó thực hiện eval\n",
    "    aes = AES.new(KEY, AES.MODE_CFB, IV, segment_size=128)\n",
    "    print(eval(aes.decrypt(ct)))\n",
    "if __name__ == '__main__':\n",
    "    main()"
   ]
  },
  {
   "cell_type": "code",
   "execution_count": 21,
   "metadata": {},
   "outputs": [
    {
     "name": "stdout",
     "output_type": "stream",
     "text": [
      "[x] Opening connection to 2024.ductf.dev on port 30020\n",
      "[x] Opening connection to 2024.ductf.dev on port 30020: Trying 34.87.243.24\n",
      "[+] Opening connection to 2024.ductf.dev on port 30020: Done\n",
      "b'F'\n",
      "b'G'\n",
      "b'H'\n",
      "b'I'\n",
      "b'J'\n",
      "b'K'\n",
      "b'L'\n",
      "b'M'\n"
     ]
    }
   ],
   "source": [
    "def oracle(ct):\n",
    "    # returns True if eval succeeded\n",
    "    conn.sendlineafter(b'ct: ', ct.hex().encode())\n",
    "    o = conn.recvline(timeout=1)\n",
    "    return o is None or ('invalid ct' not in o.decode())\n",
    "\n",
    "conn = remote('2024.ductf.dev', 30020)\n",
    "\n",
    "# đoạn này nhiệm vụ là tìm kí tự đầu tiên của flag, với cách là thử từng kí tự từ 0 đến 255, nếu 7 kết quả cuối cùng đều là True thì dừng\n",
    "# lí do 7 true thì thỏa mãn là bởi vì ta dùng aes để mã hóa với 128 bit, nên mỗi kí tự sẽ được mã hóa bằng 7 bit đó\n",
    "results = []\n",
    "for b in range(256):\n",
    "    cand = bytes([b])\n",
    "    results.append(oracle(cand))\n",
    "    if results[-1] == True:\n",
    "        print(cand)\n",
    "    if set(results[-8:]) == {True}:\n",
    "        break\n",
    "z = len(results) - 1"
   ]
  },
  {
   "cell_type": "code",
   "execution_count": 23,
   "metadata": {},
   "outputs": [
    {
     "name": "stdout",
     "output_type": "stream",
     "text": [
      "0\n",
      "b'0'\n",
      "1\n",
      "b'1'\n",
      "2\n",
      "b'2'\n",
      "3\n",
      "b'3'\n",
      "4\n",
      "b'4'\n",
      "5\n",
      "b'5'\n",
      "6\n",
      "b'6'\n",
      "7\n",
      "b'7'\n",
      "8\n",
      "b'8'\n",
      "9\n",
      "b'9'\n",
      "1\n",
      "b'_'\n",
      "77\n",
      "b'b'\n",
      "105\n",
      "b'i'\n",
      "77\n",
      "b'z'\n"
     ]
    }
   ],
   "source": [
    "# test sự hợp lệ của eval()\n",
    "for i in range(256):\n",
    "    try:\n",
    "        print(eval(bytes([i])))\n",
    "        print(bytes([i]))\n",
    "    except:\n",
    "        continue"
   ]
  }
 ],
 "metadata": {
  "kernelspec": {
   "display_name": "Python 3",
   "language": "python",
   "name": "python3"
  },
  "language_info": {
   "codemirror_mode": {
    "name": "ipython",
    "version": 3
   },
   "file_extension": ".py",
   "mimetype": "text/x-python",
   "name": "python",
   "nbconvert_exporter": "python",
   "pygments_lexer": "ipython3",
   "version": "3.11.1"
  }
 },
 "nbformat": 4,
 "nbformat_minor": 2
}
