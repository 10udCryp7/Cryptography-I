{
 "cells": [
  {
   "cell_type": "markdown",
   "metadata": {},
   "source": [
    "- Kiểm tra xem liệu `a^(2k)%p = (-a)^(2k)%p = (p-a%p)^(2k)%p` không"
   ]
  },
  {
   "cell_type": "code",
   "execution_count": 6,
   "metadata": {},
   "outputs": [
    {
     "name": "stdout",
     "output_type": "stream",
     "text": [
      "True\n",
      "True\n",
      "False\n"
     ]
    }
   ],
   "source": [
    "from random import randint\n",
    "from Crypto.Util.number import getPrime\n",
    "check_even = True\n",
    "for i in range(10):\n",
    "    a = randint(1,1000000)\n",
    "    k = randint(1,10)\n",
    "    p = getPrime(16)\n",
    "    if (pow(a,k*2,p)!=pow(p-a%p,k*2,p)):\n",
    "        check_even = False\n",
    "        break\n",
    "check_odd = True\n",
    "for i in range(10):\n",
    "    a = randint(1,1000000)\n",
    "    k = randint(1,10)\n",
    "    p = getPrime(16)\n",
    "    if (pow(p-a%p,k*2+1,p)!=p-pow(a,k*2+1,p)):\n",
    "        check_odd = False\n",
    "        break\n",
    "check_pow = True\n",
    "for i in range(10):\n",
    "    a = randint(1,1000000)\n",
    "    k = randint(1,10)\n",
    "    p = getPrime(16)\n",
    "    if (pow(p-a%p,k*2+1,p)!=p-pow(a,k*2+3,p)):\n",
    "        check_pow = False\n",
    "        break\n",
    "print(check_even)\n",
    "print(check_odd)\n",
    "print(check_pow)"
   ]
  }
 ],
 "metadata": {
  "kernelspec": {
   "display_name": "base",
   "language": "python",
   "name": "python3"
  },
  "language_info": {
   "codemirror_mode": {
    "name": "ipython",
    "version": 3
   },
   "file_extension": ".py",
   "mimetype": "text/x-python",
   "name": "python",
   "nbconvert_exporter": "python",
   "pygments_lexer": "ipython3",
   "version": "3.11.1"
  }
 },
 "nbformat": 4,
 "nbformat_minor": 2
}
