{
 "cells": [
  {
   "cell_type": "markdown",
   "metadata": {},
   "source": [
    "## **Extended Euclid Algorithm**"
   ]
  },
  {
   "cell_type": "markdown",
   "metadata": {},
   "source": [
    "### Bài toán\n",
    "- tìm số nguyên `u, v` thỏa mãn `a * u + b * v = gcd(a, b)`\n",
    "- ứng dụng: tìm modulo inverse trong bài toán RSA"
   ]
  },
  {
   "cell_type": "code",
   "execution_count": 4,
   "metadata": {},
   "outputs": [],
   "source": [
    "def extended_euclid(a, b):\n",
    "    \"\"\"\n",
    "    Tính toán ƯCLN(a, b) và các hệ số x, y sao cho ax + by = ƯCLN(a, b)\n",
    "    \"\"\"\n",
    "    if b == 0:\n",
    "        return a, 1, 0  # ƯCLN(a, 0) = a, x = 1, y = 0\n",
    "    else:\n",
    "        gcd, x1, y1 = extended_euclid(b, a % b)  # Đệ quy\n",
    "        x = y1\n",
    "        y = x1 - (a // b) * y1\n",
    "        return gcd, x, y\n",
    "\n",
    "def egcd(a, b):\n",
    "    x,y, u,v = 0,1, 1,0\n",
    "    while a != 0:\n",
    "        q, r = b//a, b%a\n",
    "        m, n = x-u*q, y-v*q\n",
    "        b,a, x,y, u,v = a,r, u,v, m,n\n",
    "    gcd = b\n",
    "    return gcd, x, y\n",
    "\n",
    "# nếu a và b nguyên tố cùng nhau, tìm x sao cho ax = 1 mod b -> ax + by = 1 -> x là inverse modulo (nếu x < 0 thì x += b là inverse module cần tìm)"
   ]
  },
  {
   "cell_type": "code",
   "execution_count": 2,
   "metadata": {},
   "outputs": [],
   "source": [
    "p = 26513\n",
    "q = 32321\n",
    "\n",
    "gcd, u, v = extended_euclid(p,q)"
   ]
  },
  {
   "cell_type": "code",
   "execution_count": 3,
   "metadata": {},
   "outputs": [
    {
     "name": "stdout",
     "output_type": "stream",
     "text": [
      "10245 -8404\n"
     ]
    }
   ],
   "source": [
    "print(u, v)"
   ]
  },
  {
   "cell_type": "code",
   "execution_count": 5,
   "metadata": {},
   "outputs": [],
   "source": [
    "gcd, u, v = extended_euclid(1001, 509)"
   ]
  },
  {
   "cell_type": "code",
   "execution_count": 6,
   "metadata": {},
   "outputs": [
    {
     "name": "stdout",
     "output_type": "stream",
     "text": [
      "1 -30 59\n"
     ]
    }
   ],
   "source": [
    "print(gcd, u, v)"
   ]
  },
  {
   "cell_type": "markdown",
   "metadata": {},
   "source": [
    "## **Modular Arithmetic 1**"
   ]
  },
  {
   "cell_type": "code",
   "execution_count": 7,
   "metadata": {},
   "outputs": [
    {
     "name": "stdout",
     "output_type": "stream",
     "text": [
      "5\n",
      "4\n"
     ]
    }
   ],
   "source": [
    "print(11%6)\n",
    "print(8146798528947%17)"
   ]
  },
  {
   "cell_type": "markdown",
   "metadata": {},
   "source": [
    "## **Modular Arithmetic 2**"
   ]
  },
  {
   "cell_type": "markdown",
   "metadata": {},
   "source": [
    "### Lý thuyết\n",
    "- cho số nguyên tố modulus `p`, định nghĩa trường của `p` là set `Fp = {0, 1, ..., p - 1}`, ta sẽ luôn tìm được số nghịch đảo `b` thỏa mãn với các số `a` trong `Fp, a + b = 0 và a * b = 1 (a + b = 0 (mod m); a * b = 1 (mod m))`\n",
    "- Định lý fermat nhỏ: nếu `p` là số nguyên tố, với a bất kì luôn có `a^p - a` chia hết cho `p` hay `a^p = a (mod p)` hay `a^(p-1) = 1 (mod p)`\n"
   ]
  },
  {
   "cell_type": "code",
   "execution_count": 11,
   "metadata": {},
   "outputs": [
    {
     "name": "stdout",
     "output_type": "stream",
     "text": [
      "3\n",
      "5\n",
      "1\n",
      "1\n"
     ]
    }
   ],
   "source": [
    "print(3**17 % 17)\n",
    "print(5**17 % 17)\n",
    "print(5**16 % 17)\n",
    "print(5**16 % 17)\n"
   ]
  },
  {
   "cell_type": "markdown",
   "metadata": {},
   "source": [
    "## **Modular Inverting**"
   ]
  },
  {
   "cell_type": "markdown",
   "metadata": {},
   "source": [
    "### Lý thuyết\n",
    "- cho g thuộc Fp tìm d thỏa mãn\n",
    "- `g * d ≡ 1 mod p`\n",
    "### Cách tiếp cận\n",
    "- dùng extended euclid\n",
    "- dùng little theorem"
   ]
  },
  {
   "cell_type": "markdown",
   "metadata": {},
   "source": [
    "### Hàm sẵn\n",
    "- `from Crypto.Util.number import inverse`\n",
    "- `from sympy import mod_inverse`"
   ]
  },
  {
   "cell_type": "code",
   "execution_count": 14,
   "metadata": {},
   "outputs": [
    {
     "name": "stdout",
     "output_type": "stream",
     "text": [
      "-4\n",
      "9\n",
      "9\n"
     ]
    }
   ],
   "source": [
    "#3 * d ≡ 1 mod 13 => 3 * d + 13 * y = 1\n",
    "gcd, d, y = extended_euclid(3, 13)\n",
    "\n",
    "print(d)\n",
    "print(d + 13)\n",
    "# p phải là số nguyên tố\n",
    "print(pow(3, 13 - 2, 13))"
   ]
  },
  {
   "cell_type": "markdown",
   "metadata": {},
   "source": [
    "### Công thức siêu khỏe (dùng khi p là số nguyên tố)\n",
    "- `g * d ≡ 1 mod p`\n",
    "- `pow(g, p - 2, p) = g^-1`\n",
    "\n",
    "### Chứng minh\n",
    "We will use Fermat's little theorem in the case of a not divisible by p:\n",
    "\n",
    "- `a^(p-1) ≡ 1 mod p <=> a^(p-1) % p = 1`\n",
    "- If we continue this equation we can get the following:\n",
    "\n",
    "- `a^(p-1) ≡ 1 mod p`\n",
    "- `a^(p-1) * a^(-1) ≡ a^(-1) mod p`\n",
    "- `a^(p-2) * a * a^(-1) ≡ a^(-1) mod p`\n",
    "- `a^(p-2) ≡ a^(-1) mod p` \n",
    "<=>\n",
    "`a^(p-2) % p = a^(-1)`\n",
    "- So we can now find the inverse element `a^(-1)`.\n",
    "\n",
    "- For our example, we have:\n",
    "\n",
    "- `3 * d ≡ 1 mod 13`\n",
    "- Which can be written\n",
    "- `3^(13-2) % 13 = 9`\n",
    "- In Python code we can use the `pow()` function that can do the `base**exp % mod expression` more efficiently than the naive method:\n",
    "\n",
    "- `pow(3, 13-2, 13) = 9`"
   ]
  },
  {
   "cell_type": "markdown",
   "metadata": {},
   "source": [
    "## **Quadratic Residues**"
   ]
  },
  {
   "cell_type": "code",
   "execution_count": 1,
   "metadata": {},
   "outputs": [
    {
     "name": "stdout",
     "output_type": "stream",
     "text": [
      "[(6, 8), (6, 21)]\n"
     ]
    }
   ],
   "source": [
    "p = 29\n",
    "\n",
    "ints = [14, 6, 11] \n",
    "\n",
    "# tìm a thỏa mãn a^2 = int mod p, nếu không tìm ra thì hẳn int không là quadratic residue\n",
    "# ý tưởng đơn giản nhất là bruteforce\n",
    "result = []\n",
    "for num in ints:\n",
    "    for i in range(0, p):\n",
    "        if (pow(i,2,p) == num):\n",
    "            result.append((num,i))\n",
    "print(result) # [(6,8),(6,21)] \n",
    "# => 6 là quadratic residues, 2 cái còn lại là non qr\n",
    "# => có 2 kết quả thỏa mãn, tức là (8+21)%p=0 (thật vậy)"
   ]
  },
  {
   "cell_type": "markdown",
   "metadata": {},
   "source": [
    "## **Legendre's Symbol**"
   ]
  },
  {
   "cell_type": "markdown",
   "metadata": {},
   "source": [
    "### Bài toán\n",
    "- đánh giá quadratic residue bằng ký hiệu legendre: `(a/p) = a^[(p-1)/2] mod p`\n",
    "- tìm `a` khi biết x là quadratic residue, `a^2 = x (mod p)`\n",
    "- ta áp dụng `p = 3 mod 4`, tức là `p = 4k + 3 => p + 1` chia hết cho 4\n",
    "- ta áp dụng fermat little theorem với `x^p = x (mod p)`, thì `x^(p+1) = x^2 mod p`, nên `x^[(p+1)/4] = x^(1/2) mod p`\n",
    "- ta thấy `a^2 = x (mod p)`, nên `a = x^(1/2) mod p = x^[(p+1)/4] mod p`"
   ]
  },
  {
   "cell_type": "code",
   "execution_count": 45,
   "metadata": {},
   "outputs": [],
   "source": [
    "def is_quadratic_residue(a, p):\n",
    "    legendre_symbol = pow(a, (p-1)//2, p)\n",
    "    if (a != 0 and legendre_symbol == 1):\n",
    "        return True\n",
    "    return False\n",
    "\n",
    "def square_root_mod(a, p):\n",
    "    value1 = pow(a, (p+1)//4, p)\n",
    "    value2 = (-value1)%p\n",
    "    return sorted([value1, value2])"
   ]
  },
  {
   "cell_type": "code",
   "execution_count": 35,
   "metadata": {},
   "outputs": [],
   "source": [
    "path = 'legendre/output.txt'\n",
    "\n",
    "with open(path, 'r') as file:\n",
    "    lines = file.readlines()\n",
    "p = int(lines[0].split('=')[1].strip())\n",
    "ints_string = lines[2].split('=')[1].strip()\n",
    "ints = [int(num.strip()) for num in ints_string[1:-1].split(',')]"
   ]
  },
  {
   "cell_type": "code",
   "execution_count": 38,
   "metadata": {},
   "outputs": [
    {
     "name": "stdout",
     "output_type": "stream",
     "text": [
      "[85256449776780591202928235662805033201684571648990042997557084658000067050672130152734911919581661523957075992761662315262685030115255938352540032297113615687815976039390537716707854569980516690246592112936796917504034711418465442893323439490171095447109457355598873230115172636184525449905022174536414781771] 1\n"
     ]
    }
   ],
   "source": [
    "qr_list = []\n",
    "for num in ints:\n",
    "    if (is_quadratic_residue(num, p)):\n",
    "        qr_list.append(num)\n",
    "print(qr_list, len(qr_list))"
   ]
  },
  {
   "cell_type": "code",
   "execution_count": 48,
   "metadata": {},
   "outputs": [
    {
     "name": "stdout",
     "output_type": "stream",
     "text": [
      "[[8232236049173183678862937195287831276653989122956554214447665091513920336605945873062812694439477854741537808646890019914007590415646391519044983311757105364315128218092106114364707761008033750078377854376973994234230173507772985887244585728151706837318609420099361595002284179979838777363970347561613017613, 93291799125366706806545638475797430512104976066103610269938025709952247020061090804870186195285998727680200979853848718589126765742550855954805290253592144209552123062161458584575060939481368210688629862036958857604707468372384278049741369153506182660264876115428251983455344219194133033177700490981696141526]] 1\n",
      "93291799125366706806545638475797430512104976066103610269938025709952247020061090804870186195285998727680200979853848718589126765742550855954805290253592144209552123062161458584575060939481368210688629862036958857604707468372384278049741369153506182660264876115428251983455344219194133033177700490981696141526\n"
     ]
    }
   ],
   "source": [
    "square_root_list = []\n",
    "for qr in qr_list:\n",
    "    square_root_list.append(square_root_mod(qr, p))\n",
    "\n",
    "print(square_root_list, len(square_root_list))\n",
    "print(square_root_list[0][1])"
   ]
  },
  {
   "cell_type": "markdown",
   "metadata": {},
   "source": [
    "## **Tonelli Shank**"
   ]
  },
  {
   "cell_type": "code",
   "execution_count": 3,
   "metadata": {},
   "outputs": [],
   "source": [
    "from sympy.ntheory.residue_ntheory import sqrt_mod"
   ]
  },
  {
   "cell_type": "code",
   "execution_count": 8,
   "metadata": {},
   "outputs": [
    {
     "name": "stdout",
     "output_type": "stream",
     "text": [
      "2362339307683048638327773298580489298932137505520500388338271052053734747862351779647314176817953359071871560041125289919247146074907151612762640868199621186559522068338032600991311882224016021222672243139362180461232646732465848840425458257930887856583379600967761738596782877851318489355679822813155123045705285112099448146426755110160002515592418850432103641815811071548456284263507805589445073657565381850521367969675699760755310784623577076440037747681760302434924932113640061738777601194622244192758024180853916244427254065441962557282572849162772740798989647948645207349737457445440405057156897508368531939120\n"
     ]
    }
   ],
   "source": [
    "path_file = 'tonelli_shank/output.txt'\n",
    "with open(path_file, 'r') as file:\n",
    "    lines = file.readlines()\n",
    "\n",
    "a = int(lines[0].split('=')[1].strip())\n",
    "p = int(lines[1].split('=')[1].strip())\n",
    "\n",
    "x1 = sqrt_mod(a, p)\n",
    "x2 = (-x1)%p\n",
    "if x1 > x2:\n",
    "    print(x2)\n",
    "else:\n",
    "    print(x1)"
   ]
  },
  {
   "cell_type": "markdown",
   "metadata": {},
   "source": [
    "## **Chinese Remainder Theorem**"
   ]
  },
  {
   "cell_type": "markdown",
   "metadata": {},
   "source": [
    "### Hàm sẵn\n",
    "`from sympy.ntheory.modular import crt`"
   ]
  },
  {
   "cell_type": "code",
   "execution_count": 7,
   "metadata": {},
   "outputs": [
    {
     "name": "stdout",
     "output_type": "stream",
     "text": [
      "872\n"
     ]
    }
   ],
   "source": [
    "# implementation sử dụng tích thay vì phép chia tính các giá trị M[i] để tối ưu tính toán\n",
    "def crt(a: list, m: list):\n",
    "    M = []\n",
    "    x = 0\n",
    "    M_mul = 1\n",
    "    for val in m:\n",
    "        M_mul *= val\n",
    "    for i in range(len(m)):\n",
    "        M_value = 1\n",
    "        for j in range(len(m)):\n",
    "            if (j != i):\n",
    "                M_value *= m[j]\n",
    "        M.append(M_value)\n",
    "        y = pow(M[i],-1,m[i])\n",
    "        x += a[i]*M[i]*y % M_mul\n",
    "    return x % M_mul\n",
    "\n",
    "a = [2, 3, 5]\n",
    "m = [5, 11, 17]\n",
    "\n",
    "print(crt(a,m))"
   ]
  }
 ],
 "metadata": {
  "kernelspec": {
   "display_name": "Python 3",
   "language": "python",
   "name": "python3"
  },
  "language_info": {
   "codemirror_mode": {
    "name": "ipython",
    "version": 3
   },
   "file_extension": ".py",
   "mimetype": "text/x-python",
   "name": "python",
   "nbconvert_exporter": "python",
   "pygments_lexer": "ipython3",
   "version": "3.12.2"
  }
 },
 "nbformat": 4,
 "nbformat_minor": 2
}
